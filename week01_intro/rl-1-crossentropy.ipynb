{
 "cells": [
  {
   "cell_type": "markdown",
   "id": "fbe000bc",
   "metadata": {
    "cellId": "8gkyatl2ls4bajeolmky78",
    "id": "Jtv9hmaEzjdK",
    "papermill": {
     "duration": 0.006012,
     "end_time": "2023-04-22T06:47:58.887480",
     "exception": false,
     "start_time": "2023-04-22T06:47:58.881468",
     "status": "completed"
    },
    "tags": []
   },
   "source": [
    "# Deep Crossentropy method\n",
    "\n",
    "In this section we'll extend your CEM implementation with neural networks! You will train a multi-layer neural network to solve simple continuous state space games. __Please make sure you're done with tabular crossentropy method from the previous notebook.__\n",
    "\n",
    "![img](https://watanimg.elwatannews.com/old_news_images/large/249765_Large_20140709045740_11.jpg)\n",
    "\n"
   ]
  },
  {
   "cell_type": "code",
   "execution_count": 65,
   "id": "d9b4d5b8",
   "metadata": {
    "ExecuteTime": {
     "end_time": "2023-04-23T09:27:53.017265Z",
     "start_time": "2023-04-23T09:27:52.351141Z"
    },
    "cellId": "68nku1lg5zxt9bxmado1q",
    "id": "uwNvMFUYzjdQ",
    "outputId": "4627dc31-0507-480e-9aef-35a6ab479336",
    "papermill": {
     "duration": 0.765116,
     "end_time": "2023-04-22T06:48:10.970880",
     "exception": false,
     "start_time": "2023-04-22T06:48:10.205764",
     "status": "completed"
    },
    "tags": []
   },
   "outputs": [
    {
     "name": "stderr",
     "output_type": "stream",
     "text": [
      "/kernel/lib/python3.8/site-packages/ipykernel/ipkernel.py:283: DeprecationWarning: `should_run_async` will not call `transform_cell` automatically in the future. Please pass the result to `transformed_cell` argument and any exception that happen during thetransform in `preprocessing_exc_tuple` in IPython 7.17 and above.\n",
      "  and should_run_async(code)\n"
     ]
    },
    {
     "name": "stdout",
     "output_type": "stream",
     "text": [
      "state vector dim = 4\n",
      "n_actions = 2\n"
     ]
    }
   ],
   "source": [
    "#!c1.32\n",
    "import gym\n",
    "import numpy as np\n",
    "import matplotlib.pyplot as plt\n",
    "%matplotlib inline\n",
    "\n",
    "import warnings\n",
    "warnings.filterwarnings('ignore')\n",
    "\n",
    "# if you see \"<classname> has no attribute .env\", remove .env or update gym\n",
    "env = gym.make(\"CartPole-v0\").env\n",
    "\n",
    "env.reset()\n",
    "n_actions = env.action_space.n\n",
    "state_dim = env.observation_space.shape[0]\n",
    "\n",
    "print(\"state vector dim =\", state_dim)\n",
    "print(\"n_actions =\", n_actions)"
   ]
  },
  {
   "cell_type": "markdown",
   "id": "2c5eab1e",
   "metadata": {
    "cellId": "hsdtd9wddkpzqmqyvzu3hm",
    "execution_id": "9328514b-7ba8-4f2c-857e-5b67e0a98730",
    "id": "ijnSEqCAzjdR",
    "papermill": {
     "duration": 0.005385,
     "end_time": "2023-04-22T06:48:10.982005",
     "exception": false,
     "start_time": "2023-04-22T06:48:10.976620",
     "status": "completed"
    },
    "tags": []
   },
   "source": [
    "# Neural Network Policy\n",
    "\n",
    "For this assignment we'll utilize the simplified neural network implementation from __[Scikit-learn](https://scikit-learn.org/stable/modules/generated/sklearn.neural_network.MLPClassifier.html)__. Here's what you'll need:\n",
    "\n",
    "* `agent.partial_fit(states, actions)` - make a single training pass over the data. Maximize the probability of :actions: from :states:\n",
    "* `agent.predict_proba(states)` - predict probabilities of all actions, a matrix of shape __[len(states), n_actions]__\n"
   ]
  },
  {
   "cell_type": "code",
   "execution_count": 66,
   "id": "f877365b",
   "metadata": {
    "ExecuteTime": {
     "end_time": "2023-04-23T09:27:54.768040Z",
     "start_time": "2023-04-23T09:27:54.244165Z"
    },
    "cellId": "dbtwct35qr41olqpxcmx3b",
    "papermill": {
     "duration": 1.190572,
     "end_time": "2023-04-22T06:48:12.178588",
     "exception": false,
     "start_time": "2023-04-22T06:48:10.988016",
     "status": "completed"
    },
    "scrolled": true,
    "tags": []
   },
   "outputs": [
    {
     "data": {
      "text/html": [
       "<style>#sk-container-id-2 {color: black;background-color: white;}#sk-container-id-2 pre{padding: 0;}#sk-container-id-2 div.sk-toggleable {background-color: white;}#sk-container-id-2 label.sk-toggleable__label {cursor: pointer;display: block;width: 100%;margin-bottom: 0;padding: 0.3em;box-sizing: border-box;text-align: center;}#sk-container-id-2 label.sk-toggleable__label-arrow:before {content: \"▸\";float: left;margin-right: 0.25em;color: #696969;}#sk-container-id-2 label.sk-toggleable__label-arrow:hover:before {color: black;}#sk-container-id-2 div.sk-estimator:hover label.sk-toggleable__label-arrow:before {color: black;}#sk-container-id-2 div.sk-toggleable__content {max-height: 0;max-width: 0;overflow: hidden;text-align: left;background-color: #f0f8ff;}#sk-container-id-2 div.sk-toggleable__content pre {margin: 0.2em;color: black;border-radius: 0.25em;background-color: #f0f8ff;}#sk-container-id-2 input.sk-toggleable__control:checked~div.sk-toggleable__content {max-height: 200px;max-width: 100%;overflow: auto;}#sk-container-id-2 input.sk-toggleable__control:checked~label.sk-toggleable__label-arrow:before {content: \"▾\";}#sk-container-id-2 div.sk-estimator input.sk-toggleable__control:checked~label.sk-toggleable__label {background-color: #d4ebff;}#sk-container-id-2 div.sk-label input.sk-toggleable__control:checked~label.sk-toggleable__label {background-color: #d4ebff;}#sk-container-id-2 input.sk-hidden--visually {border: 0;clip: rect(1px 1px 1px 1px);clip: rect(1px, 1px, 1px, 1px);height: 1px;margin: -1px;overflow: hidden;padding: 0;position: absolute;width: 1px;}#sk-container-id-2 div.sk-estimator {font-family: monospace;background-color: #f0f8ff;border: 1px dotted black;border-radius: 0.25em;box-sizing: border-box;margin-bottom: 0.5em;}#sk-container-id-2 div.sk-estimator:hover {background-color: #d4ebff;}#sk-container-id-2 div.sk-parallel-item::after {content: \"\";width: 100%;border-bottom: 1px solid gray;flex-grow: 1;}#sk-container-id-2 div.sk-label:hover label.sk-toggleable__label {background-color: #d4ebff;}#sk-container-id-2 div.sk-serial::before {content: \"\";position: absolute;border-left: 1px solid gray;box-sizing: border-box;top: 0;bottom: 0;left: 50%;z-index: 0;}#sk-container-id-2 div.sk-serial {display: flex;flex-direction: column;align-items: center;background-color: white;padding-right: 0.2em;padding-left: 0.2em;position: relative;}#sk-container-id-2 div.sk-item {position: relative;z-index: 1;}#sk-container-id-2 div.sk-parallel {display: flex;align-items: stretch;justify-content: center;background-color: white;position: relative;}#sk-container-id-2 div.sk-item::before, #sk-container-id-2 div.sk-parallel-item::before {content: \"\";position: absolute;border-left: 1px solid gray;box-sizing: border-box;top: 0;bottom: 0;left: 50%;z-index: -1;}#sk-container-id-2 div.sk-parallel-item {display: flex;flex-direction: column;z-index: 1;position: relative;background-color: white;}#sk-container-id-2 div.sk-parallel-item:first-child::after {align-self: flex-end;width: 50%;}#sk-container-id-2 div.sk-parallel-item:last-child::after {align-self: flex-start;width: 50%;}#sk-container-id-2 div.sk-parallel-item:only-child::after {width: 0;}#sk-container-id-2 div.sk-dashed-wrapped {border: 1px dashed gray;margin: 0 0.4em 0.5em 0.4em;box-sizing: border-box;padding-bottom: 0.4em;background-color: white;}#sk-container-id-2 div.sk-label label {font-family: monospace;font-weight: bold;display: inline-block;line-height: 1.2em;}#sk-container-id-2 div.sk-label-container {text-align: center;}#sk-container-id-2 div.sk-container {/* jupyter's `normalize.less` sets `[hidden] { display: none; }` but bootstrap.min.css set `[hidden] { display: none !important; }` so we also need the `!important` here to be able to override the default hidden behavior on the sphinx rendered scikit-learn.org. See: https://github.com/scikit-learn/scikit-learn/issues/21755 */display: inline-block !important;position: relative;}#sk-container-id-2 div.sk-text-repr-fallback {display: none;}</style><div id=\"sk-container-id-2\" class=\"sk-top-container\"><div class=\"sk-text-repr-fallback\"><pre>MLPClassifier(activation=&#x27;tanh&#x27;, hidden_layer_sizes=(20, 20))</pre><b>In a Jupyter environment, please rerun this cell to show the HTML representation or trust the notebook. <br />On GitHub, the HTML representation is unable to render, please try loading this page with nbviewer.org.</b></div><div class=\"sk-container\" hidden><div class=\"sk-item\"><div class=\"sk-estimator sk-toggleable\"><input class=\"sk-toggleable__control sk-hidden--visually\" id=\"sk-estimator-id-2\" type=\"checkbox\" checked><label for=\"sk-estimator-id-2\" class=\"sk-toggleable__label sk-toggleable__label-arrow\">MLPClassifier</label><div class=\"sk-toggleable__content\"><pre>MLPClassifier(activation=&#x27;tanh&#x27;, hidden_layer_sizes=(20, 20))</pre></div></div></div></div></div>"
      ],
      "text/plain": [
       "MLPClassifier(activation='tanh', hidden_layer_sizes=(20, 20))"
      ]
     },
     "execution_count": 66,
     "metadata": {},
     "output_type": "execute_result"
    }
   ],
   "source": [
    "#!c1.32\n",
    "from sklearn.neural_network import MLPClassifier\n",
    "\n",
    "agent = MLPClassifier(\n",
    "    hidden_layer_sizes=(20, 20),\n",
    "    activation='tanh',\n",
    ")\n",
    "\n",
    "# initialize agent to the dimension of state space and number of actions\n",
    "agent.partial_fit([env.reset()] * n_actions, range(n_actions), classes=range(n_actions))"
   ]
  },
  {
   "cell_type": "code",
   "execution_count": 67,
   "id": "4741a496",
   "metadata": {
    "ExecuteTime": {
     "end_time": "2023-04-23T09:27:54.950986Z",
     "start_time": "2023-04-23T09:27:54.940421Z"
    },
    "cellId": "m47x7ph8d8cpxqjb1e3zqb",
    "id": "EzaJb9tzzjdS",
    "outputId": "b278f48c-8ae2-407c-f606-7dd1378f2296",
    "papermill": {
     "duration": 0.018576,
     "end_time": "2023-04-22T06:48:12.203156",
     "exception": false,
     "start_time": "2023-04-22T06:48:12.184580",
     "status": "completed"
    },
    "tags": []
   },
   "outputs": [],
   "source": [
    "#!c1.32\n",
    "def generate_session(env, agent, t_max=1000):\n",
    "    \"\"\"\n",
    "    Play a single game using agent neural network.\n",
    "    Terminate when game finishes or after :t_max: steps\n",
    "    \"\"\"\n",
    "    states, actions = [], []\n",
    "    total_reward = 0\n",
    "\n",
    "    s = env.reset()\n",
    "\n",
    "    for t in range(t_max):\n",
    "        \n",
    "        # use agent to predict a vector of action probabilities for state :s:\n",
    "        probs = agent.predict_proba([s]).reshape(-1)\n",
    "\n",
    "        assert probs.shape == (env.action_space.n,), \"make sure probabilities are a vector (hint: np.reshape)\"\n",
    "        \n",
    "        # use the probabilities you predicted to pick an action\n",
    "        # sample proportionally to the probabilities, don't just take the most likely action\n",
    "        a = np.random.choice(range(n_actions), p=probs)\n",
    "        # ^-- hint: try np.random.choice\n",
    "\n",
    "        new_s, r, done, info = env.step(a)\n",
    "\n",
    "        # record sessions like you did before\n",
    "        states.append(s)\n",
    "        actions.append(a)\n",
    "        total_reward += r\n",
    "\n",
    "        s = new_s\n",
    "        if done:\n",
    "            break\n",
    "    return states, actions, total_reward"
   ]
  },
  {
   "cell_type": "code",
   "execution_count": 68,
   "id": "67a0509d",
   "metadata": {
    "ExecuteTime": {
     "end_time": "2023-04-23T09:27:55.809067Z",
     "start_time": "2023-04-23T09:27:55.795875Z"
    },
    "cellId": "khg9amey9bmikbrnc2yiu",
    "id": "7wqcjbE_zjdS",
    "outputId": "cfc8843a-29ec-4a95-9a4f-54a9130d9ea5",
    "papermill": {
     "duration": 0.021025,
     "end_time": "2023-04-22T06:48:12.230207",
     "exception": false,
     "start_time": "2023-04-22T06:48:12.209182",
     "status": "completed"
    },
    "tags": []
   },
   "outputs": [
    {
     "name": "stdout",
     "output_type": "stream",
     "text": [
      "states: [[ 0.02307011  0.00949141 -0.02315676  0.04125671]\n",
      " [ 0.02325993 -0.18529096 -0.02233163  0.32654443]\n",
      " [ 0.01955412 -0.38008797 -0.01580074  0.61210215]\n",
      " [ 0.01195236 -0.18474878 -0.0035587   0.31448475]\n",
      " [ 0.00825738  0.01042368  0.002731    0.02068163]]\n",
      "actions: [0, 0, 1, 1, 1]\n",
      "reward: 5.0\n"
     ]
    }
   ],
   "source": [
    "#!c1.32\n",
    "dummy_states, dummy_actions, dummy_reward = generate_session(env, agent, t_max=5)\n",
    "print(\"states:\", np.stack(dummy_states))\n",
    "print(\"actions:\", dummy_actions)\n",
    "print(\"reward:\", dummy_reward)"
   ]
  },
  {
   "cell_type": "markdown",
   "id": "da00d8df",
   "metadata": {
    "cellId": "vr8uwmho5sk3waq74edy42",
    "execution_id": "70025186-e1d3-4ea5-b765-8ece9152090e",
    "id": "s5wfFrsuzjdT",
    "papermill": {
     "duration": 0.005664,
     "end_time": "2023-04-22T06:48:12.242089",
     "exception": false,
     "start_time": "2023-04-22T06:48:12.236425",
     "status": "completed"
    },
    "tags": []
   },
   "source": [
    "### CEM steps\n",
    "Deep CEM uses exactly the same strategy as the regular CEM, so you can copy your function code from previous notebook.\n",
    "\n",
    "The only difference is that now each observation is not a number but a `float32` vector."
   ]
  },
  {
   "cell_type": "code",
   "execution_count": 72,
   "id": "b235848e",
   "metadata": {
    "ExecuteTime": {
     "end_time": "2023-04-23T09:27:57.201188Z",
     "start_time": "2023-04-23T09:27:57.169208Z"
    },
    "cellId": "dj0fjdmylpwg8pp3lc1fd",
    "id": "xzeDQ6vSzjdT",
    "outputId": "c70bb048-bf9e-40a1-9900-d0309d6a3998",
    "papermill": {
     "duration": 0.015844,
     "end_time": "2023-04-22T06:48:12.263919",
     "exception": false,
     "start_time": "2023-04-22T06:48:12.248075",
     "status": "completed"
    },
    "tags": []
   },
   "outputs": [],
   "source": [
    "#!c1.32\n",
    "def select_elites(states_batch, actions_batch, rewards_batch, percentile=50):\n",
    "    \"\"\"\n",
    "    Select states and actions from games that have rewards >= percentile\n",
    "    :param states_batch: list of lists of states, states_batch[session_i][t]\n",
    "    :param actions_batch: list of lists of actions, actions_batch[session_i][t]\n",
    "    :param rewards_batch: list of rewards, rewards_batch[session_i]\n",
    "\n",
    "    :returns: elite_states,elite_actions, both 1D lists of states and respective actions from elite sessions\n",
    "\n",
    "    Please return elite states and actions in their original order \n",
    "    [i.e. sorted by session number and timestep within session]\n",
    "\n",
    "    If you are confused, see examples below. Please don't assume that states are integers\n",
    "    (they will become different later).\n",
    "    \"\"\"\n",
    "\n",
    "    reward_threshold = np.percentile(rewards_batch, percentile)\n",
    "    \n",
    "    elite_mask = rewards_batch > reward_threshold\n",
    "\n",
    "    elite_states = np.asarray(states_batch)[elite_mask]\n",
    "    elite_actions = np.asarray(actions_batch)[elite_mask]\n",
    "\n",
    "    return np.concatenate(elite_states), np.concatenate(elite_actions)"
   ]
  },
  {
   "cell_type": "markdown",
   "id": "97f0bcfb",
   "metadata": {
    "cellId": "j2b23zuw1ncg67kc7py834",
    "execution_id": "1c6445d7-8515-4466-8e41-d6912da53c19",
    "id": "P0wANVtJzjdU",
    "papermill": {
     "duration": 0.005581,
     "end_time": "2023-04-22T06:48:12.275586",
     "exception": false,
     "start_time": "2023-04-22T06:48:12.270005",
     "status": "completed"
    },
    "tags": []
   },
   "source": [
    "# Training loop\n",
    "Generate sessions, select N best and fit to those."
   ]
  },
  {
   "cell_type": "code",
   "execution_count": 70,
   "id": "152cdb4c",
   "metadata": {
    "ExecuteTime": {
     "end_time": "2023-04-23T09:27:59.009305Z",
     "start_time": "2023-04-23T09:27:58.994786Z"
    },
    "cellId": "yv1zcom7d289uiir5nhu4",
    "id": "buHfPBe5zjdU",
    "papermill": {
     "duration": 0.019343,
     "end_time": "2023-04-22T06:48:12.300636",
     "exception": false,
     "start_time": "2023-04-22T06:48:12.281293",
     "status": "completed"
    },
    "tags": []
   },
   "outputs": [],
   "source": [
    "#!c1.32\n",
    "from IPython.display import clear_output\n",
    "\n",
    "def show_progress(rewards_batch, log, percentile, reward_range=[-990, +10], need_clear_output=True):\n",
    "    \"\"\"\n",
    "    A convenience function that displays training progress. \n",
    "    No cool math here, just charts.\n",
    "    \"\"\"\n",
    "\n",
    "    mean_reward = np.mean(rewards_batch)\n",
    "    threshold = np.percentile(rewards_batch, percentile)\n",
    "    log.append([mean_reward, threshold])\n",
    "\n",
    "    if need_clear_output:\n",
    "        clear_output(True)\n",
    "    print(\"mean reward = %.3f, threshold=%.3f\" % (mean_reward, threshold))\n",
    "    plt.figure(figsize=[8, 4])\n",
    "    plt.subplot(1, 2, 1)\n",
    "    plt.plot(list(zip(*log))[0], label='Mean rewards')\n",
    "    plt.plot(list(zip(*log))[1], label='Reward thresholds')\n",
    "    plt.legend()\n",
    "    plt.grid()\n",
    "\n",
    "    plt.subplot(1, 2, 2)\n",
    "    plt.hist(rewards_batch, range=reward_range)\n",
    "    plt.vlines([np.percentile(rewards_batch, percentile)],\n",
    "               [0], [100], label=\"percentile\", color='red')\n",
    "    plt.legend()\n",
    "    plt.grid()\n",
    "\n",
    "    plt.show()"
   ]
  },
  {
   "cell_type": "code",
   "execution_count": 71,
   "id": "2fd24e91",
   "metadata": {
    "ExecuteTime": {
     "end_time": "2023-04-23T09:23:03.536426Z",
     "start_time": "2023-04-23T09:22:20.483279Z"
    },
    "cellId": "5xn0go4viwlkx2a2s6b7cp",
    "id": "f7RHq_F3zjdU",
    "outputId": "535def04-f415-44dc-fa0a-abd61296e7fc",
    "papermill": {
     "duration": 403.890419,
     "end_time": "2023-04-22T06:54:56.197077",
     "exception": false,
     "start_time": "2023-04-22T06:48:12.306658",
     "status": "completed"
    },
    "tags": []
   },
   "outputs": [
    {
     "name": "stdout",
     "output_type": "stream",
     "text": [
      "mean reward = 304.600, threshold=325.600\n"
     ]
    },
    {
     "data": {
      "image/png": "[encoded data removed]",
      "text/plain": [
       "<Figure size 576x288 with 2 Axes>"
      ]
     },
     "metadata": {
      "needs_background": "light"
     },
     "output_type": "display_data"
    },
    {
     "name": "stdout",
     "output_type": "stream",
     "text": [
      "You Win! You may stop training now via KeyboardInterrupt.\n"
     ]
    }
   ],
   "source": [
    "#!c1.32\n",
    "n_sessions = 100\n",
    "percentile = 70\n",
    "log = []\n",
    "\n",
    "for i in range(45):\n",
    "    \n",
    "    sessions = [generate_session(env, agent) for _ in range(n_sessions)]\n",
    "\n",
    "    states_batch, actions_batch, rewards_batch = map(np.array, zip(*sessions))\n",
    "\n",
    "    elite_states, elite_actions = select_elites(states_batch, actions_batch, rewards_batch, percentile)\n",
    "\n",
    "    agent.partial_fit(elite_states, elite_actions, range(n_actions))\n",
    "\n",
    "    show_progress(rewards_batch, log, percentile, reward_range=[0, np.max(rewards_batch)])\n",
    "\n",
    "\n",
    "    if np.mean(rewards_batch) > 190:\n",
    "        print(\"You Win! You may stop training now via KeyboardInterrupt.\")"
   ]
  },
  {
   "cell_type": "markdown",
   "id": "ab4e3f9d",
   "metadata": {
    "cellId": "i3fpgzb9jyrq91m4viqbu",
    "id": "AJrR-RUhzjdW",
    "papermill": {
     "duration": 0.006631,
     "end_time": "2023-04-22T06:54:56.210455",
     "exception": false,
     "start_time": "2023-04-22T06:54:56.203824",
     "status": "completed"
    },
    "tags": []
   },
   "source": [
    "# Homework part I\n",
    "\n",
    "### Tabular crossentropy method\n",
    "\n",
    "You may have noticed that the taxi problem quickly converges from -100 to a near-optimal score and then descends back into -50/-100. This is in part because the environment has some innate randomness. Namely, the starting points of passenger/driver change from episode to episode.\n",
    "\n",
    "### Tasks\n",
    "- __1.1__ (2 pts) Find out how the algorithm performance changes if you use a different `percentile` and/or `n_sessions`. Provide here some figures so we can see how the hyperparameters influence the performance.\n",
    "- __1.2__ (1 pts) Tune the algorithm to end up with positive average score.\n",
    "\n",
    "It's okay to modify the existing code.\n"
   ]
  },
  {
   "cell_type": "markdown",
   "id": "0df7d567",
   "metadata": {
    "cellId": "rqwtc4i6lrd4dnfinukxzc",
    "id": "oJ0j2Fh5zjdW",
    "papermill": {
     "duration": 0.006385,
     "end_time": "2023-04-22T06:54:56.223973",
     "exception": false,
     "start_time": "2023-04-22T06:54:56.217588",
     "status": "completed"
    },
    "tags": []
   },
   "source": [
    "```Used lower percentile so that crossentropy method trains an all states```"
   ]
  },
  {
   "cell_type": "markdown",
   "id": "811af512",
   "metadata": {
    "cellId": "j4ieoijlbocgja1ponpztf",
    "id": "-Sz8JhztzjdW",
    "papermill": {
     "duration": 0.00639,
     "end_time": "2023-04-22T06:54:56.236978",
     "exception": false,
     "start_time": "2023-04-22T06:54:56.230588",
     "status": "completed"
    },
    "tags": []
   },
   "source": [
    "# Homework part II\n",
    "\n",
    "### Deep crossentropy method\n",
    "\n",
    "By this moment, you should have got enough score on [CartPole-v0](https://gym.openai.com/envs/CartPole-v0) to consider it solved (see the link). It's time to try something harder.\n",
    "\n",
    "* if you have any trouble with CartPole-v0 and feel stuck, feel free to ask us or your peers for help.\n",
    "\n",
    "### Tasks\n",
    "\n",
    "* __2.1__ (3 pts) Pick one of environments: `MountainCar-v0` or `LunarLander-v2`.\n",
    "  * For MountainCar, get average reward of __at least -150__\n",
    "  * For LunarLander, get average reward of __at least +50__\n",
    "\n",
    "See the tips section below, it's kinda important.\n",
    "__Note:__ If your agent is below the target score, you'll still get some of the points depending on the result, so don't be afraid to submit it.\n",
    "  \n",
    "  \n",
    "* __2.2__ (up to 6 pts) Devise a way to speed up training against the default version\n",
    "  * Obvious improvement: use [`joblib`](https://joblib.readthedocs.io/en/latest/). However, note that you will probably need to spawn a new environment in each of the workers instead of passing it via pickling. (2 pts)\n",
    "  * Try re-using samples from 3-5 last iterations when computing threshold and training. (2 pts)\n",
    "  * Obtain __-100__ at `MountainCar-v0` or __+200__ at `LunarLander-v2` (2 pts). Feel free to experiment with hyperparameters, architectures, schedules etc.\n",
    "  \n",
    "__Please list what you did in Anytask submission form__. This reduces probability that somebody misses something.\n",
    "  \n",
    "  \n",
    "### Tips\n",
    "* Gym page: [MountainCar](https://gym.openai.com/envs/MountainCar-v0), [LunarLander](https://gym.openai.com/envs/LunarLander-v2)\n",
    "* Sessions for MountainCar may last for 10k+ ticks. Make sure ```t_max``` param is at least 10k.\n",
    " * Also it may be a good idea to cut rewards via \">\" and not \">=\". If 90% of your sessions get reward of -10k and 10% are better, than if you use percentile 20% as threshold, R >= threshold __fails to cut off bad sessions__ while R > threshold works alright.\n",
    "* _issue with gym_: Some versions of gym limit game time by 200 ticks. This will prevent cem training in most cases. Make sure your agent is able to play for the specified __t_max__, and if it isn't, try `env = gym.make(\"MountainCar-v0\").env` or otherwise get rid of TimeLimit wrapper.\n",
    "* If you use old _swig_ lib for LunarLander-v2, you may get an error. See this [issue](https://github.com/openai/gym/issues/100) for solution.\n",
    "* If it doesn't train, it's a good idea to plot reward distribution and record sessions: they may give you some clue. If they don't, call course staff :)\n",
    "* 20-neuron network is probably not enough, feel free to experiment.\n",
    "\n",
    "You may find the following snippet useful:"
   ]
  },
  {
   "cell_type": "code",
   "execution_count": 73,
   "id": "864f8545",
   "metadata": {
    "cellId": "w9dx61xw4mypm2wm2ku7j"
   },
   "outputs": [],
   "source": [
    "#!c1.32\n",
    "def generate_session_car(agent, t_max=10000):\n",
    "    \"\"\"\n",
    "    Play a single game using agent neural network.\n",
    "    Terminate when game finishes or after :t_max: steps\n",
    "    \"\"\"\n",
    "    states, actions = [], []\n",
    "    total_reward = 0\n",
    "    \n",
    "    env = gym.make(\"MountainCar-v0\").env\n",
    "\n",
    "    s = env.reset()\n",
    "\n",
    "    for t in range(t_max):\n",
    "        \n",
    "        # use agent to predict a vector of action probabilities for state :s:\n",
    "        probs = agent.predict_proba([s]).reshape(-1)\n",
    "\n",
    "        assert probs.shape == (env.action_space.n,), \"make sure probabilities are a vector (hint: np.reshape)\"\n",
    "        \n",
    "        # use the probabilities you predicted to pick an action\n",
    "        # sample proportionally to the probabilities, don't just take the most likely action\n",
    "        a = np.random.choice(range(n_actions), p=probs)\n",
    "        # ^-- hint: try np.random.choice\n",
    "\n",
    "        new_s, r, done, info = env.step(a)\n",
    "\n",
    "        # record sessions like you did before\n",
    "        states.append(s)\n",
    "        actions.append(a)\n",
    "        total_reward += r\n",
    "\n",
    "        s = new_s\n",
    "        if done:\n",
    "            break\n",
    "    return states, actions, total_reward"
   ]
  },
  {
   "cell_type": "code",
   "execution_count": 74,
   "id": "5d1124b9",
   "metadata": {
    "ExecuteTime": {
     "end_time": "2023-04-23T09:24:10.642446Z",
     "start_time": "2023-04-23T09:24:10.634425Z"
    },
    "cellId": "ez66vkbetx6hcl8pbtgzwe",
    "id": "4XwJobZVGloh",
    "outputId": "05c9cdb3-3c4b-405f-b67c-66d73c6924b0",
    "papermill": {
     "duration": 0.015357,
     "end_time": "2023-04-22T06:54:56.336817",
     "exception": false,
     "start_time": "2023-04-22T06:54:56.321460",
     "status": "completed"
    },
    "tags": []
   },
   "outputs": [
    {
     "name": "stdout",
     "output_type": "stream",
     "text": [
      "generation time: 0.8825485706329346\n",
      "mean reward = -100.897, threshold=-103.000\n"
     ]
    },
    {
     "data": {
      "image/png": "[encoded data removed]",
      "text/plain": [
       "<Figure size 576x288 with 2 Axes>"
      ]
     },
     "metadata": {
      "needs_background": "light"
     },
     "output_type": "display_data"
    }
   ],
   "source": [
    "#!c1.32\n",
    "import joblib\n",
    "from joblib import Parallel, delayed, parallel_backend\n",
    "\n",
    "from sklearn.neural_network import MLPClassifier\n",
    "\n",
    "import time\n",
    "\n",
    "env = gym.make(\"MountainCar-v0\").env\n",
    "env.reset()\n",
    "n_actions = env.action_space.n\n",
    "state_dim = env.observation_space.shape[0]\n",
    "\n",
    "\n",
    "agent = MLPClassifier(\n",
    "    hidden_layer_sizes=(60, 50, 40, 30),\n",
    "    activation='tanh',\n",
    ")\n",
    "\n",
    "agent.partial_fit([env.reset()] * n_actions, range(n_actions), range(n_actions))\n",
    "\n",
    "\n",
    "n_sessions = 64\n",
    "percentile = 50\n",
    "n_epoch = 400\n",
    "log = []\n",
    "all_sessions = []\n",
    "\n",
    "for i in range(n_epoch):\n",
    "    tick = time.time()\n",
    "    with parallel_backend('multiprocessing'):\n",
    "        sessions = Parallel(n_jobs=32)(\n",
    "            delayed(generate_session_car)(agent=agent) for _ in range(n_sessions)\n",
    "        )\n",
    "    clear_output(True)\n",
    "    print(f'generation time: {time.time()-tick}')\n",
    "    \n",
    "    all_sessions.append(sessions)\n",
    "    if len(all_sessions) > 5:\n",
    "        all_sessions = all_sessions[1:]\n",
    "        \n",
    "    all_sessions_flatten = [item for sublist in all_sessions for item in sublist]\n",
    "    \n",
    "    states_batch, actions_batch, rewards_batch = map(np.array, zip(*all_sessions_flatten))\n",
    "\n",
    "    elite_states, elite_actions = select_elites(states_batch, actions_batch, rewards_batch, percentile)\n",
    "\n",
    "    agent.partial_fit(elite_states, elite_actions)\n",
    "\n",
    "    show_progress(rewards_batch, log, percentile, [np.min(rewards_batch), 0], False)"
   ]
  },
  {
   "cell_type": "code",
   "execution_count": 81,
   "id": "423f0296",
   "metadata": {
    "cellId": "foxlpctfbvh11zbe7kycy6"
   },
   "outputs": [
    {
     "data": {
      "text/plain": [
       "[-99.903125, -103.0]"
      ]
     },
     "execution_count": 81,
     "metadata": {},
     "output_type": "execute_result"
    }
   ],
   "source": [
    "#!c1.32\n",
    "log[341]"
   ]
  },
  {
   "cell_type": "code",
   "execution_count": 82,
   "id": "d3c289c6",
   "metadata": {
    "cellId": "hd6iakbjimb450in86s",
    "papermill": {
     "duration": 0.006916,
     "end_time": "2023-04-22T10:45:11.579708",
     "exception": false,
     "start_time": "2023-04-22T10:45:11.572792",
     "status": "completed"
    },
    "tags": []
   },
   "outputs": [
    {
     "data": {
      "image/png": "[encoded data removed]",
      "text/plain": [
       "<Figure size 504x504 with 1 Axes>"
      ]
     },
     "metadata": {
      "needs_background": "light"
     },
     "output_type": "display_data"
    }
   ],
   "source": [
    "#!c1.32\n",
    "def visualize_mountain_car(env, agent):\n",
    "    # Compute policy for all possible x and v (with discretization)\n",
    "    xs = np.linspace(env.min_position, env.max_position, 100)\n",
    "    vs = np.linspace(-env.max_speed, env.max_speed, 100)\n",
    "    \n",
    "    grid = np.dstack(np.meshgrid(xs, vs[::-1])).transpose(1, 0, 2)\n",
    "    grid_flat = grid.reshape(len(xs) * len(vs), 2)\n",
    "    probs = agent.predict_proba(grid_flat).reshape(len(xs), len(vs), 3).transpose(1, 0, 2)\n",
    "\n",
    "    # # The above code is equivalent to the following:\n",
    "    # probs = np.empty((len(vs), len(xs), 3))\n",
    "    # for i, v in enumerate(vs[::-1]):\n",
    "    #     for j, x in enumerate(xs):\n",
    "    #         probs[i, j, :] = agent.predict_proba([[x, v]])[0]\n",
    "\n",
    "    # Draw policy\n",
    "    f, ax = plt.subplots(figsize=(7, 7))\n",
    "    ax.imshow(probs, extent=(env.min_position, env.max_position, -env.max_speed, env.max_speed), aspect='auto')\n",
    "    ax.set_title('Learned policy: red=left, green=nothing, blue=right')\n",
    "    ax.set_xlabel('position (x)')\n",
    "    ax.set_ylabel('velocity (v)')\n",
    "    \n",
    "    # Sample a trajectory and draw it\n",
    "    states, actions, _ = generate_session(env, agent)\n",
    "    states = np.array(states)\n",
    "    ax.plot(states[:, 0], states[:, 1], color='white')\n",
    "    \n",
    "    # Draw every 3rd action from the trajectory\n",
    "    for (x, v), a in zip(states[::3], actions[::3]):\n",
    "        if a == 0:\n",
    "            plt.arrow(x, v, -0.1, 0, color='white', head_length=0.02)\n",
    "        elif a == 2:\n",
    "            plt.arrow(x, v, 0.1, 0, color='white', head_length=0.02)\n",
    "\n",
    "with gym.make('MountainCar-v0').env as env:\n",
    "    visualize_mountain_car(env, agent)"
   ]
  }
 ],
 "metadata": {
  "language_info": {
   "codemirror_mode": {
    "name": "ipython",
    "version": 3
   },
   "file_extension": ".py",
   "mimetype": "text/x-python",
   "name": "python",
   "nbconvert_exporter": "python",
   "pygments_lexer": "ipython3",
   "version": "3.7.7"
  },
  "notebookId": "c1e7d01f-a169-493a-87f3-88ad82ad2165",
  "notebookPath": "rl-1-crossentropy.ipynb",
  "papermill": {
   "default_parameters": {},
   "duration": 14243.249859,
   "end_time": "2023-04-22T10:45:12.740296",
   "environment_variables": {},
   "exception": null,
   "input_path": "__notebook__.ipynb",
   "output_path": "__notebook__.ipynb",
   "parameters": {},
   "start_time": "2023-04-22T06:47:49.490437",
   "version": "2.4.0"
  },
  "toc": {
   "base_numbering": 1,
   "nav_menu": {},
   "number_sections": true,
   "sideBar": true,
   "skip_h1_title": false,
   "title_cell": "Table of Contents",
   "title_sidebar": "Contents",
   "toc_cell": false,
   "toc_position": {},
   "toc_section_display": true,
   "toc_window_display": false
  },
  "varInspector": {
   "cols": {
    "lenName": 16,
    "lenType": 16,
    "lenVar": 40
   },
   "kernels_config": {
    "python": {
     "delete_cmd_postfix": "",
     "delete_cmd_prefix": "del ",
     "library": "var_list.py",
     "varRefreshCmd": "print(var_dic_list())"
    },
    "r": {
     "delete_cmd_postfix": ") ",
     "delete_cmd_prefix": "rm(",
     "library": "var_list.r",
     "varRefreshCmd": "cat(var_dic_list()) "
    }
   },
   "types_to_exclude": [
    "module",
    "function",
    "builtin_function_or_method",
    "instance",
    "_Feature"
   ],
   "window_display": false
  }
 },
 "nbformat": 4,
 "nbformat_minor": 5
}
